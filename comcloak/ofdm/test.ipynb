{
 "cells": [
  {
   "cell_type": "code",
   "execution_count": null,
   "metadata": {},
   "outputs": [],
   "source": [
    "import math\n",
    "\n",
    "class Circle:\n",
    "    def __init__(self, radius):\n",
    "        self.radius = radius\n",
    "\n",
    "    def __call__(self, value):\n",
    "        return math.pi * self.radius**2 * (value or 1)  # 如果value为None，则默认计算面积，否则乘以value\n",
    "    @property\n",
    "    def points(self):\n",
    "        return self(None)\n",
    "\n",
    "# 创建一个半径为5的圆\n",
    "my_circle = Circle(5)\n",
    "\n",
    "# 调用__call__方法，传入None作为参数，相当于计算面积\n",
    "print(my_circle.points)  # 输出: 78.53981633974483\n",
    "\n",
    "# 调用__call__方法，传入3作为参数，相当于计算圆面积并乘以3\n",
    "print(my_circle(3))  # 输出: 235.61944901923448\n",
    "\n",
    "\n"
   ]
  },
  {
   "cell_type": "code",
   "execution_count": null,
   "metadata": {},
   "outputs": [],
   "source": [
    "class MyModel(nn.Module):\n",
    "    def forward(self, x):\n",
    "        return x\n",
    "\n",
    "model = MyModel()\n",
    "output = model.forward(input_data, additional_param)\n"
   ]
  },
  {
   "cell_type": "code",
   "execution_count": 6,
   "metadata": {},
   "outputs": [
    {
     "name": "stdout",
     "output_type": "stream",
     "text": [
      "[[[1. 0. 1. 0.]\n",
      "  [0. 1. 1. 1.]\n",
      "  [1. 0. 1. 0.]]\n",
      "\n",
      " [[1. 1. 0. 0.]\n",
      "  [0. 1. 1. 1.]\n",
      "  [1. 0. 1. 1.]]]\n"
     ]
    }
   ],
   "source": [
    "import numpy as np\n",
    "\n",
    "# 假设 inputs 是一个张量或数组\n",
    "inputs = np.array([2, 3, 4])  # 示例值，可以根据需要修改\n",
    "\n",
    "# 设置随机数生成器\n",
    "rng = np.random.default_rng(seed=12345)  # 你可以根据需要设置种子\n",
    "\n",
    "# 使用 randint 生成随机整数\n",
    "random_integers = rng.integers(low=0, high=2, size=inputs.tolist(), dtype=np.int32)\n",
    "\n",
    "# 转换数据类型\n",
    "result = random_integers.astype(np.float32)  # self._dtype 在此示例中假设为 float32\n",
    "\n",
    "print(result)\n"
   ]
  },
  {
   "cell_type": "code",
   "execution_count": 1,
   "metadata": {},
   "outputs": [
    {
     "name": "stdout",
     "output_type": "stream",
     "text": [
      "Total memory: 8.00 GB\n",
      "Allocated memory: 0.00 GB\n",
      "Cached memory: 0.00 GB\n"
     ]
    }
   ],
   "source": [
    "import torch\n",
    "\n",
    "# 检查是否有可用的 GPU\n",
    "if torch.cuda.is_available():\n",
    "    # 获取当前设备\n",
    "    device = torch.device('cuda')\n",
    "    \n",
    "    # 打印当前设备的总内存和已使用内存\n",
    "    print(f\"Total memory: {torch.cuda.get_device_properties(device).total_memory / 1024**3:.2f} GB\")\n",
    "    print(f\"Allocated memory: {torch.cuda.memory_allocated(device) / 1024**3:.2f} GB\")\n",
    "    print(f\"Cached memory: {torch.cuda.memory_reserved(device) / 1024**3:.2f} GB\")\n",
    "else:\n",
    "    print(\"CUDA is not available.\")\n"
   ]
  }
 ],
 "metadata": {
  "kernelspec": {
   "display_name": "tensor_flow",
   "language": "python",
   "name": "python3"
  },
  "language_info": {
   "codemirror_mode": {
    "name": "ipython",
    "version": 3
   },
   "file_extension": ".py",
   "mimetype": "text/x-python",
   "name": "python",
   "nbconvert_exporter": "python",
   "pygments_lexer": "ipython3",
   "version": "3.10.14"
  }
 },
 "nbformat": 4,
 "nbformat_minor": 2
}
